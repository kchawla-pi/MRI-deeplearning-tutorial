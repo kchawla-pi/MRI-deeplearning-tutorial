{
 "cells": [
  {
   "cell_type": "markdown",
   "metadata": {},
   "source": [
    "# Cancer Detection using Neural Networks: An Easy Tutorial\n",
    "## Introduction\n",
    "\n",
    "Deep learning and neural networks have produced strong results for challenging computer vision tasks such as image classification and dcmect detection [cite], and it is easier than ever to get started with deep learning with just a rudimentary knowledge of Python thanks to libraries such as PyTorch. Of course, the applications of deep learning are not just limited to basic natural image tasks; many other fields have benefited from neural networks, such as the key application area of *medical imaging and computer-assisted diagnosis*. In this tutorial, I will show how to use deep learning for a medical imaging classification task on a real dataset of breast cancer MR (magnetic resonance) scans, from start to finish using Python. \n",
    "\n",
    "All code can be found at [github.com/mazurowski-lab/MRI-deeplearning-tutorial](https://github.com/mazurowski-lab/MRI-deeplearning-tutorial). This code is partially based on the [code](https://github.com/mazurowski-lab/radiologyintrinsicmanifolds) from my MICCAI 2022 paper \"The Intrinsic Manifolds of Radiological Images and their Role in Deep Learning\", another example of how I've studied deep learning on medical images.\n",
    "\n",
    "To begin, I will introduce the standard data type of medical images, DICOM (Digital Imaging and Communications in Medicine) files, and show how to use Python to interact with the breast MRI DICOM data. Next, I will describe how to use PyTorch to create a neural network for image classification, and create a model training and evaluation pipeline that uses this data. In summary, I will provide code that can load the raw breast MRI data, build and train an image classification neural network on it, and evaluate the network on a task of detecting the presence of cancer in new MR images."
   ]
  },
  {
   "cell_type": "markdown",
   "metadata": {},
   "source": [
    "# Part 0: Setup\n",
    "## Requirements\n",
    "You will need the following libraries installed for Python 3:\n",
    "1. PyTorch (`torch` and `torchvision`) (see [here](https://pytorch.org/get-started/locally/))\n",
    "2. `pandas`\n",
    "3. `numpy`\n",
    "4. `scikit-image`\n",
    "5. `pydicom`\n",
    "6. `tqdm`\n",
    "\n",
    "# Part I: Preparing The Data\n",
    "## (1) Download the data\n",
    "\n",
    "For this tutorial we will use my lab's Duke-Breast-Cancer-MRI (DBC-MRI) dataset, a dataset of breast MR scans from 922 subjects at Duke University (see the paper [here](https://www.ncbi.nlm.nih.gov/pmc/articles/PMC6134102/) for more information). We will be using about one tenth of the full dataset, due to its large size. The first step is to download the data, which can be obtained from The Cancer Imaging Archive (TCIA). Please refer to the following instructions to do this.\n",
    "1. Travel to the TCIA homepage of DBC-MRI [here](https://wiki.cancerimagingarchive.net/pages/viewpage.action?pageId=70226903), and scroll down to the \"**Data Access**\" tab. \n",
    "2. Download the data annotation (breast tumor bounding boxes) and filepath list files \"File Path mapping tables (XLSX, 49.6 MB)\" and \"Annotation Boxes (XLSX, 49 kB)\" from the second and fourth rows of the table, respectively. You'll then need to convert these to `.csv` manually (e.g. using Microsoft Excel). Move these into your working directory.\n",
    "3. In the first row of the table, go to the column \"**Download all or Query/Filter**\", and click the \"**Search**\" button to go to a page where you can select a subset of the dataset for download.\n",
    "4. Skip any tutorial prompts here. Next, make sure you're under the \"Search Results\" tab, and scroll to the bottom of this table and modify \"Show {} entries\" to show 100 entries. Your screen should look something like this:\n",
    "![TCIA data selection screenshot.](imgs/screenshot_TCIA.png)\n",
    "5. Next, click the shopping cart icon between \"**Cart**\" and \"**Collection ID**\" on the table header to select all 100 entries.\n",
    "6. With the data selected and added to your cart, click the \"Cart\" tab on the top right of the page (it should also say \"36 GB\") to go to your cart.\n",
    "7. Now on the cart page, click \"Download\" right below the \"Cart\" tab to download a `.tcia` file that will be used to download your data. You can now close the page.\n",
    "8. In order to download the dataset (subset) to your computer with the `.tcia` file, you'll need to use TCIA's NBIA Data Retreiver tool, which can be obtained [here](https://wiki.cancerimagingarchive.net/display/NBIA/Downloading+TCIA+Images). Once installed (see the Data Retreiver page for more details), open the downloaded `.tcia` file with the data retreiver tool.\n",
    "9. Download all files, and **make sure that you download them with the \"Classic Directory Name\" directory type convention**, otherwise the following data preprocessing code will not work. This will take some time; if the downloads ever halt, resume by performing the same start procedure (the data retreiver program will detect which files have already been downloaded.)\n",
    "10. Once completed, all DICOM files will be in a folder named `manifest-xxx`, where `xxx` is some string. This manifest folder may be within a few subfolders. Move this manifest folder into your working directory.\n",
    "11. Proceed to the following section to see how we will process this data for usage with a neural network."
   ]
  },
  {
   "cell_type": "markdown",
   "metadata": {},
   "source": [
    "## (2) Process the data for training\n",
    "To start working with the data, let's begin by importing a few libraries into your Python environment (`.py` script, `.ipynb` notebook, etc.):"
   ]
  },
  {
   "cell_type": "code",
   "execution_count": 2,
   "metadata": {},
   "outputs": [],
   "source": [
    "import pandas as pd\n",
    "import numpy as np\n",
    "import os\n",
    "import pydicom\n",
    "from tqdm import tqdm\n",
    "from skimage.io import imsave"
   ]
  },
  {
   "cell_type": "markdown",
   "metadata": {},
   "source": [
    "Next, let's begin by defining a few useful filepaths:"
   ]
  },
  {
   "cell_type": "code",
   "execution_count": 3,
   "metadata": {},
   "outputs": [],
   "source": [
    "data_path = 'manifest-1655917758874'\n",
    "boxes_path = 'Annotation_Boxes.csv'\n",
    "mapping_path = 'Breast-Cancer-MRI-filepath_filename-mapping.csv'\n",
    "target_png_dir = 'png_out'\n",
    "if not os.path.exists(target_png_dir):\n",
    "\tos.makedirs(target_png_dir)"
   ]
  },
  {
   "cell_type": "markdown",
   "metadata": {},
   "source": [
    "\n",
    "Here, `data_path` needs be changed to the name string of your downloaded manifest folder (`manifest-xxx`). The variable `boxes_path` is the path of the file containing cancer annotation bounding boxes, `mapping_path` is the path of the file that lists where each image is located, and target_png_dir is the new directory that will be created where we will output `.png` images files extracted from the DICOMs.\n",
    "\n",
    "Next, let's load the bounding box annotation list and see what it looks like:"
   ]
  },
  {
   "cell_type": "code",
   "execution_count": 4,
   "metadata": {},
   "outputs": [
    {
     "data": {
      "text/html": [
       "<div>\n",
       "<style scoped>\n",
       "    .dataframe tbody tr th:only-of-type {\n",
       "        vertical-align: middle;\n",
       "    }\n",
       "\n",
       "    .dataframe tbody tr th {\n",
       "        vertical-align: top;\n",
       "    }\n",
       "\n",
       "    .dataframe thead th {\n",
       "        text-align: right;\n",
       "    }\n",
       "</style>\n",
       "<table border=\"1\" class=\"dataframe\">\n",
       "  <thead>\n",
       "    <tr style=\"text-align: right;\">\n",
       "      <th></th>\n",
       "      <th>Patient ID</th>\n",
       "      <th>Start Row</th>\n",
       "      <th>End Row</th>\n",
       "      <th>Start Column</th>\n",
       "      <th>End Column</th>\n",
       "      <th>Start Slice</th>\n",
       "      <th>End Slice</th>\n",
       "    </tr>\n",
       "  </thead>\n",
       "  <tbody>\n",
       "    <tr>\n",
       "      <th>0</th>\n",
       "      <td>Breast_MRI_001</td>\n",
       "      <td>234</td>\n",
       "      <td>271</td>\n",
       "      <td>308</td>\n",
       "      <td>341</td>\n",
       "      <td>89</td>\n",
       "      <td>112</td>\n",
       "    </tr>\n",
       "    <tr>\n",
       "      <th>1</th>\n",
       "      <td>Breast_MRI_002</td>\n",
       "      <td>251</td>\n",
       "      <td>294</td>\n",
       "      <td>108</td>\n",
       "      <td>136</td>\n",
       "      <td>59</td>\n",
       "      <td>72</td>\n",
       "    </tr>\n",
       "    <tr>\n",
       "      <th>2</th>\n",
       "      <td>Breast_MRI_003</td>\n",
       "      <td>351</td>\n",
       "      <td>412</td>\n",
       "      <td>82</td>\n",
       "      <td>139</td>\n",
       "      <td>96</td>\n",
       "      <td>108</td>\n",
       "    </tr>\n",
       "    <tr>\n",
       "      <th>3</th>\n",
       "      <td>Breast_MRI_004</td>\n",
       "      <td>262</td>\n",
       "      <td>280</td>\n",
       "      <td>193</td>\n",
       "      <td>204</td>\n",
       "      <td>86</td>\n",
       "      <td>95</td>\n",
       "    </tr>\n",
       "    <tr>\n",
       "      <th>4</th>\n",
       "      <td>Breast_MRI_005</td>\n",
       "      <td>188</td>\n",
       "      <td>213</td>\n",
       "      <td>138</td>\n",
       "      <td>178</td>\n",
       "      <td>76</td>\n",
       "      <td>122</td>\n",
       "    </tr>\n",
       "    <tr>\n",
       "      <th>...</th>\n",
       "      <td>...</td>\n",
       "      <td>...</td>\n",
       "      <td>...</td>\n",
       "      <td>...</td>\n",
       "      <td>...</td>\n",
       "      <td>...</td>\n",
       "      <td>...</td>\n",
       "    </tr>\n",
       "    <tr>\n",
       "      <th>917</th>\n",
       "      <td>Breast_MRI_918</td>\n",
       "      <td>345</td>\n",
       "      <td>395</td>\n",
       "      <td>338</td>\n",
       "      <td>395</td>\n",
       "      <td>62</td>\n",
       "      <td>85</td>\n",
       "    </tr>\n",
       "    <tr>\n",
       "      <th>918</th>\n",
       "      <td>Breast_MRI_919</td>\n",
       "      <td>285</td>\n",
       "      <td>312</td>\n",
       "      <td>369</td>\n",
       "      <td>397</td>\n",
       "      <td>98</td>\n",
       "      <td>109</td>\n",
       "    </tr>\n",
       "    <tr>\n",
       "      <th>919</th>\n",
       "      <td>Breast_MRI_920</td>\n",
       "      <td>172</td>\n",
       "      <td>193</td>\n",
       "      <td>337</td>\n",
       "      <td>355</td>\n",
       "      <td>87</td>\n",
       "      <td>101</td>\n",
       "    </tr>\n",
       "    <tr>\n",
       "      <th>920</th>\n",
       "      <td>Breast_MRI_921</td>\n",
       "      <td>328</td>\n",
       "      <td>374</td>\n",
       "      <td>404</td>\n",
       "      <td>446</td>\n",
       "      <td>97</td>\n",
       "      <td>121</td>\n",
       "    </tr>\n",
       "    <tr>\n",
       "      <th>921</th>\n",
       "      <td>Breast_MRI_922</td>\n",
       "      <td>258</td>\n",
       "      <td>270</td>\n",
       "      <td>149</td>\n",
       "      <td>164</td>\n",
       "      <td>82</td>\n",
       "      <td>92</td>\n",
       "    </tr>\n",
       "  </tbody>\n",
       "</table>\n",
       "<p>922 rows × 7 columns</p>\n",
       "</div>"
      ],
      "text/plain": [
       "         Patient ID  Start Row  End Row  Start Column  End Column  \\\n",
       "0    Breast_MRI_001        234      271           308         341   \n",
       "1    Breast_MRI_002        251      294           108         136   \n",
       "2    Breast_MRI_003        351      412            82         139   \n",
       "3    Breast_MRI_004        262      280           193         204   \n",
       "4    Breast_MRI_005        188      213           138         178   \n",
       "..              ...        ...      ...           ...         ...   \n",
       "917  Breast_MRI_918        345      395           338         395   \n",
       "918  Breast_MRI_919        285      312           369         397   \n",
       "919  Breast_MRI_920        172      193           337         355   \n",
       "920  Breast_MRI_921        328      374           404         446   \n",
       "921  Breast_MRI_922        258      270           149         164   \n",
       "\n",
       "     Start Slice  End Slice  \n",
       "0             89        112  \n",
       "1             59         72  \n",
       "2             96        108  \n",
       "3             86         95  \n",
       "4             76        122  \n",
       "..           ...        ...  \n",
       "917           62         85  \n",
       "918           98        109  \n",
       "919           87        101  \n",
       "920           97        121  \n",
       "921           82         92  \n",
       "\n",
       "[922 rows x 7 columns]"
      ]
     },
     "metadata": {},
     "output_type": "display_data"
    }
   ],
   "source": [
    "boxes_df = pd.read_csv(boxes_path)\n",
    "display(boxes_df)"
   ]
  },
  {
   "cell_type": "markdown",
   "metadata": {},
   "source": [
    "Note that these MRIs are three-dimensional: they have coordinates of height (measured by pixel rows), width (measured pixel columns), and depth (measured by the \"slice\" dimension). Here, **Start Row**, **End Row**, **Start Column** and **End Column** define the two-dimensional bounding box areas along the height-width pixel dimension where a tumor was found for each patient, while **Start Slice** and **End Slice** describe how far the bounding box/tumor extends in the depth (slice) dimension.\n",
    "\n",
    "For simplicity, we will only consider fat-saturated MR exams: this can be accomplished by loading the image filepath `.csv` list, and only keeping the subset of fat-saturated images:"
   ]
  },
  {
   "cell_type": "code",
   "execution_count": 5,
   "metadata": {},
   "outputs": [
    {
     "name": "stderr",
     "output_type": "stream",
     "text": [
      "/usr/local/lib/python3.9/site-packages/IPython/core/interactiveshell.py:3444: DtypeWarning: Columns (15) have mixed types.Specify dtype option on import or set low_memory=False.\n",
      "  exec(code_obj, self.user_global_ns, self.user_ns)\n"
     ]
    }
   ],
   "source": [
    "# only consider fat-satured \"pre\" exams\n",
    "mapping_df = pd.read_csv(mapping_path)\n",
    "mapping_df = mapping_df[mapping_df['original_path_and_filename'].str.contains('pre')]\n",
    "\n",
    "# remove entries from patients that we are not including (we only include patients 1 to 100)\n",
    "# using a regex pattern\n",
    "crossref_pattern = '|'.join([\"DICOM_Images/Breast_MRI_{:03d}\".format(s) for s in list(range(1, 101))])\n",
    "mapping_df = mapping_df[mapping_df['original_path_and_filename'].str.contains(crossref_pattern)]"
   ]
  },
  {
   "cell_type": "markdown",
   "metadata": {},
   "source": [
    "Note that each row in `mapping_df` refers to a different 2D slice of a full 3D MRI *volume*.\n",
    "\n",
    "Next, we are ready to write some code to automatically extract `.png` files from the raw DICOM data, as `.png` work nicely with PyTorch (and take up much less space than DICOMs). First, however, we need to *define our classification task*, as the labels that we will assign to each extracted `.png` image are based off of this task definition. \n",
    "\n",
    "### Defining our task\n",
    "A straightforward task is simply to train a classification model to detect for the presence of cancer within breast MRI slices; by convention, we will take all 2D slices that contain a tumor bounding box to have cancer (labeled as **positive**, or **1**), and all other slices at least five slices away from positive slices to be **negative**, or **0**.\n",
    "\n",
    "Before we write our `.png` extraction code, we will need to write a helper function for saving a single 2D slice `.png` image of a 3D MRI (each DICOM file contains a single slice). This function, which we will name `save_dcm_slice()`, will take three arguments: \n",
    "1. `dcm_fname`, the filename of the source DICOM,\n",
    "2. `label`, the cancer label of that slice, either `0` for negative or `1` for positive, and\n",
    "3. `vol_idx`, the patient number/index of the MRI out of the entire dataset.\n",
    "\n",
    "This function can be written with the following code, which I comment to explain each step (including some additional necessary preprocessing)"
   ]
  },
  {
   "cell_type": "code",
   "execution_count": 6,
   "metadata": {},
   "outputs": [],
   "source": [
    "def save_dcm_slice(dcm_fname, label, vol_idx):\n",
    "    # create a path to save the slice .png file in, according to the original DICOM filename and target label\n",
    "    png_path = dcm_fname.split('/')[-1].replace('.dcm', '-{}.png'.format(vol_idx))\n",
    "    label_dir = 'pos' if label == 1 else 'neg'\n",
    "    png_path = os.path.join(target_png_dir, label_dir, png_path)\n",
    "\n",
    "    if not os.path.exists(os.path.join(target_png_dir, label_dir)):\n",
    "        os.makedirs(os.path.join(target_png_dir, label_dir))\n",
    "    \n",
    "    if not os.path.exists(png_path):\n",
    "        # only make the png image if it doesn't already exist (if you're running this after the first time)\n",
    "        \n",
    "        # load DICOM file with pydicom library\n",
    "        try:\n",
    "            dcm = pydicom.dcmread(dcm_fname)\n",
    "        except FileNotFoundError:\n",
    "            # fix possible errors in filename from list\n",
    "            dcm_fname_split = dcm_fname.split('/')\n",
    "            dcm_fname_end = dcm_fname_split[-1]\n",
    "            assert dcm_fname_end.split('-')[1][0] == '0'\n",
    "            \n",
    "            dcm_fname_end_split = dcm_fname_end.split('-')\n",
    "            dcm_fname_end = '-'.join([dcm_fname_end_split[0], dcm_fname_end_split[1][1:]])\n",
    "            \n",
    "            dcm_fname_split[-1] = dcm_fname_end\n",
    "            dcm_fname = '/'.join(dcm_fname_split)\n",
    "            dcm = pydicom.dcmread(dcm_fname)\n",
    "            \n",
    "        \n",
    "        # convert DICOM into numerical numpy array of pixel intensity values\n",
    "        img = dcm.pixel_array\n",
    "\n",
    "        # convert uint16 datatype to float, scaled properly for uint8\n",
    "        img = img.astype(np.float) * 255. / img.max()\n",
    "        # convert from float -> uint8\n",
    "        img = img.astype(np.uint8)\n",
    "        # invert image if necessary, according to DICOM metadata\n",
    "        img_type = dcm.PhotometricInterpretation\n",
    "        if img_type == \"MONOCHROME1\":\n",
    "            img = np.invert(img)\n",
    "\n",
    "        # save final .png\n",
    "        imsave(png_path, img)"
   ]
  },
  {
   "cell_type": "markdown",
   "metadata": {},
   "source": [
    "Next, when converting each 2D slice to a `.png`, we'll want to iterate over each 3D patient volume, as each volume is associated with a single breast tumor bounding box, as is all 2D slices (DICOMs) within that volume. \n",
    "\n",
    "It is also important that the network is trained on a dataset that has a balanced amount of positive and negative class examples, so that it doesn't focus too heavily on one of the two classes (see our paper [here](https://www.sciencedirect.com/science/article/pii/S0893608018302107) for further discussion on the class imbalance problem). In total, we could extract a bit more than 2600 positive images from this dataset, and about 13500 negatives. As such, to maintain a class balance, we will extract exactly 2600 of each class.\n",
    "\n",
    "This can be accomplished with the following code that iterates through `mapping_df` (the conversion will take some time):"
   ]
  },
  {
   "cell_type": "code",
   "execution_count": 7,
   "metadata": {},
   "outputs": [
    {
     "name": "stderr",
     "output_type": "stream",
     "text": [
      "17116it [00:01, 11328.50it/s]                        \n"
     ]
    }
   ],
   "source": [
    "# number of examples for each class\n",
    "N_class = 2600\n",
    "# counts of examples extracted from each class\n",
    "ct_negative = 0\n",
    "ct_positive = 0\n",
    "\n",
    "# initialize iteration index of each patient volume\n",
    "vol_idx = -1\n",
    "for row_idx, row in tqdm(mapping_df.iterrows(), total=N_class*2):\n",
    "\t# indices start at 1 here\n",
    "\tnew_vol_idx = int((row['original_path_and_filename'].split('/')[1]).split('_')[-1])\n",
    "\tslice_idx = int(((row['original_path_and_filename'].split('/')[-1]).split('_')[-1]).replace('.dcm', ''))\n",
    "\n",
    "\t# new volume: get tumor bounding box\n",
    "\tif new_vol_idx != vol_idx:\n",
    "\t\tbox_row = boxes_df.iloc[[new_vol_idx-1]]\n",
    "\t\tstart_slice = int(box_row['Start Slice'])\n",
    "\t\tend_slice = int(box_row['End Slice'])\n",
    "\t\tassert end_slice >= start_slice\n",
    "\tvol_idx = new_vol_idx\n",
    "\n",
    "\t# get DICOM filename\n",
    "\tdcm_fname = str(row['classic_path'])\n",
    "\tdcm_fname = os.path.join(data_path, dcm_fname)\n",
    "\t\n",
    "\t# determine slice label:\n",
    "\t# (1) if within 3D box, save as positive\n",
    "\tif slice_idx >= start_slice and slice_idx < end_slice: \n",
    "\t\tif ct_positive >= N_class:\n",
    "\t\t\tcontinue\n",
    "\t\t# dcm = load_dcm(dcm_fname)\n",
    "\t\tsave_dcm_slice(dcm_fname, 1, vol_idx)\n",
    "\t\tct_positive += 1\n",
    "\n",
    "\t# (2) if outside 3D box by >5 slices, save as negative\n",
    "\telif (slice_idx + 5) <= start_slice or (slice_idx - 5) > end_slice:\n",
    "\t\tif ct_negative >= N_class:\n",
    "\t\t\tcontinue\n",
    "\t\tsave_dcm_slice(dcm_fname, 0, vol_idx)\n",
    "\t\tct_negative += 1"
   ]
  },
  {
   "cell_type": "markdown",
   "metadata": {},
   "source": [
    "### "
   ]
  },
  {
   "cell_type": "markdown",
   "metadata": {},
   "source": [
    "Now let's see what one of these images looks like. We'll display a random positive (cancer) image (ran in a Jupyter notebook):"
   ]
  },
  {
   "cell_type": "code",
   "execution_count": 15,
   "metadata": {},
   "outputs": [
    {
     "data": {
      "image/png": "[encoded data removed]",
      "text/plain": [
       "<IPython.core.display.Image object>"
      ]
     },
     "metadata": {},
     "output_type": "display_data"
    }
   ],
   "source": [
    "from IPython.display import Image, display\n",
    "from random import choice\n",
    "\n",
    "positive_image_dir = os.path.join(target_png_dir, 'pos')\n",
    "negative_image_filenames = os.listdir(positive_image_dir)\n",
    "sample_image_path = os.path.join(positive_image_dir, choice(negative_image_filenames))\n",
    "\n",
    "display(Image(filename=sample_image_path))"
   ]
  },
  {
   "cell_type": "markdown",
   "metadata": {},
   "source": [
    "\n",
    "\n",
    "\n",
    "\n",
    "That's it for this tutorial! We are now ready to train and test a neural network to detect the presence of cancer with this data. Please proceed to the following tutorial, where I show (1) how to create a PyTorch data loading pipeline for network training and evaluation and (2) how to load, train and test a classification network with this data."
   ]
  },
  {
   "cell_type": "markdown",
   "metadata": {},
   "source": [
    "# Part II: Training a  Classification Model"
   ]
  },
  {
   "cell_type": "markdown",
   "metadata": {},
   "source": [
    "## (1) Building a data loading pipeline\n",
    "\n",
    "Deep learning is data-driven, so having a reliable framework to work with (image) data is essential. PyTorch (the `torch` and `torchvision` libraries in Python), among other things, allows for the efficient manipulation and management of numerical matrices, and is one of the most popular deep learning frameworks (as neural networks operate and learn via many matrix multiplications and additions). Images can also be describes with large matrices of numbers, where the dimensions of the matrices correspond to the size of the image, and each element of the matrix is a pixel intensity value. As such, it is extremely helpful to abstract all image data loading/processing and neural networks operations with PyTorch, which comes with myriad convenient modules and tools for these and more.\n",
    "\n",
    "The central objects that we will use are the `Dataset` and `DataLoader` of `torch.utils.data`. While `Dataset` allows for the easy storage and indexing of data samples and labels, `DataLoader` makes it possible to easily access these samples in a way that integrates very well with how we will train and test neural networks. Please see PyTorch's [tutorial](https://pytorch.org/tutorials/beginner/basics/data_tutorial.html) for more information. To start, lets import the needed libaries and objects:"
   ]
  },
  {
   "cell_type": "code",
   "execution_count": 16,
   "metadata": {},
   "outputs": [],
   "source": [
    "import torch\n",
    "from torch.utils.data import Dataset, DataLoader\n",
    "from torchvision import transforms\n",
    "from skimage.io import imread"
   ]
  },
  {
   "cell_type": "markdown",
   "metadata": {},
   "source": [
    "Next, let's define some constants:"
   ]
  },
  {
   "cell_type": "code",
   "execution_count": 17,
   "metadata": {},
   "outputs": [],
   "source": [
    "# directory where our .png data is (outputted from the previous part)\n",
    "data_dir = 'png_out'\n",
    "# length in pixels of size of image once resized for the network\n",
    "img_size = 128 "
   ]
  },
  {
   "cell_type": "markdown",
   "metadata": {},
   "source": [
    "### Datasets"
   ]
  },
  {
   "cell_type": "markdown",
   "metadata": {},
   "source": [
    "\n",
    "First, we must define our own `Dataset` for the DBC dataset, called `DBCDataset`. In summary, the important methods defined in `DBCDataset` are:\n",
    "1. the `create_labels()` method assigns an easily-accessible label to each image in the dataset, \n",
    "2. the `normalize()` method normalizes images to the pixel value range `[0,255]`, as it's important to standardize data for deep learning, \n",
    "3. the `__getitem__()` method is required for `Dataset`s, and describes how data is obtained from the dataset with an index (or indices)\n",
    "\n",
    "Check out the code block below, where I've added comments to explain each step.  "
   ]
  },
  {
   "cell_type": "code",
   "execution_count": 18,
   "metadata": {},
   "outputs": [],
   "source": [
    "class DBCDataset(Dataset):\n",
    "    def __init__(self):\n",
    "        self.data_dir = data_dir\n",
    "        self.img_size = img_size\n",
    "        \n",
    "        # assign labels to data within this Dataset\n",
    "        self.labels = None\n",
    "        self.create_labels()\n",
    "\n",
    "    def create_labels(self):\n",
    "        # create and store a label (positive/1 or negative/0 for each image)\n",
    "        # each label is the tuple: (img filename, label number (0 or 1))\n",
    "        labels = []\n",
    "        print('building DBC dataset labels.')\n",
    "        # iterate over each class\n",
    "        for target, target_label in enumerate(['neg', 'pos']):\n",
    "            case_dir = os.path.join(self.data_dir, target_label)\n",
    "            # iterate over all images in the class/case type\n",
    "            for fname in os.listdir(case_dir):\n",
    "                if '.png' in fname:\n",
    "                    fpath = os.path.join(case_dir, fname)\n",
    "                    labels.append((fpath, target))\n",
    "            \n",
    "        self.labels = labels\n",
    "\n",
    "                 \n",
    "    def normalize(self, img):\n",
    "        # normalize image pixel values to range [0, 255]\n",
    "        # img expected to be array\n",
    "                 \n",
    "        # convert uint16 -> float\n",
    "        img = img.astype(np.float) * 255. / img.max()\n",
    "        # convert float -> unit8\n",
    "        img = img.astype(np.uint8)\n",
    "        \n",
    "        return img\n",
    "    \n",
    "    def __getitem__(self, idx):\n",
    "        # required method for accessing data samples\n",
    "        # returns data with its label\n",
    "        fpath, target  = self.labels[idx]\n",
    "        \n",
    "        # load img from file (png or jpg)\n",
    "        img_arr = imread(fpath, as_gray=True)\n",
    "        \n",
    "        # normalize image\n",
    "        img_arr = self.normalize(img_arr)\n",
    "        \n",
    "        # convert to tensor (PyTorch matrix)\n",
    "        data = torch.from_numpy(img_arr)\n",
    "        data = data.type(torch.FloatTensor) \n",
    "       \n",
    "        # add image channel dimension (to work with neural network)\n",
    "        data = torch.unsqueeze(data, 0)\n",
    "        \n",
    "        # resize image\n",
    "        data = transforms.Resize((self.img_size, self.img_size))(data)\n",
    "        \n",
    "        return data, target\n",
    "\n",
    "    def __len__(self):\n",
    "        # required method for getting size of dataset\n",
    "        return len(self.labels)"
   ]
  },
  {
   "cell_type": "markdown",
   "metadata": {},
   "source": [
    "From here we can simply create an instance of the dataset with:"
   ]
  },
  {
   "cell_type": "code",
   "execution_count": 20,
   "metadata": {},
   "outputs": [
    {
     "name": "stdout",
     "output_type": "stream",
     "text": [
      "building DBC dataset labels.\n"
     ]
    }
   ],
   "source": [
    "dataset = DBCDataset()"
   ]
  },
  {
   "cell_type": "markdown",
   "metadata": {},
   "source": [
    "### Training, validation and test sets: what are the differences?\n",
    "To develop our classification model we will need to split our dataset into training, validation, and test sets. For each image in the datapoint, there is an associated label that we want the classification model to predict. But what are the differences between these data subsets?\n",
    "1. The training set is used to provide the model with examples for how to make predictions; this is what the model \"learns\" from. The learning algorithm is just modifying the neural network parameters to minimize the average prediction error on the training set.\n",
    "2. The validation set is used to estimate how well the model performs on predicting labels for new data that it has not learned from (the ultimate goal of developing this model, also known as *generalization*). This validation prediction error is used to select at which point in training we'd like to save the model: we want to save the model when the validation error is lowest. You can also use the validation set to select *hyperparameters* or settings for the training algorithm that are not learned from the training set.\n",
    "3. The test set, like the validation set, is also used to estimate the *generalization ability* of the neural network on new data; however, this must be separate from the validation set because the validation set itself was used to select the final model, and we want an unbiased estimate of generalization ability\n",
    "\n",
    "\n",
    "With a dataset size of 2600 + 2600 = 5200, a typical set of percentages for splitting the dataset into training/validation/testing could be something like 80%/10%/10%, which results in a training set of size 4160, and validation and testing set sizes of 520, each. Practically, we can extract these subsets from our dataset with the useful function `torch.utils.data.random_split()`, which randomly splits up the full dataset into subsets:"
   ]
  },
  {
   "cell_type": "code",
   "execution_count": 21,
   "metadata": {},
   "outputs": [
    {
     "name": "stdout",
     "output_type": "stream",
     "text": [
      "5200\n",
      "4160 520 520\n"
     ]
    }
   ],
   "source": [
    "train_fraction = 0.8\n",
    "validation_fraction = 0.1\n",
    "test_fraction = 0.1\n",
    "dataset_size = len(dataset)\n",
    "[print(dataset_size)]\n",
    "\n",
    "num_train = int(train_fraction * dataset_size)\n",
    "num_validation = int(validation_fraction * dataset_size)\n",
    "num_test = int(test_fraction * dataset_size)\n",
    "print(num_train, num_validation, num_test)\n",
    "\n",
    "#subset_sizes = [train_fraction * dataset_size, validation_fraction * dataset_size, test_fraction * dataset_size]\n",
    "#subset_sizes = [np.floor(s) for s in subset_sizes]\n",
    "#print(subset_sizes)\n",
    "\n",
    "train_dataset, validation_dataset, test_dataset = torch.utils.data.random_split(dataset, [num_train, num_validation, num_test])"
   ]
  },
  {
   "cell_type": "markdown",
   "metadata": {},
   "source": [
    "### Dataloaders\n",
    "We've created PyTorch `Dataset`s for model training, validation and testing, which is most of the work for our data-loading pipeline. To finish, we will need to create PyTorch `Dataloader`s to conveniently access images from our datasets. But first, a quick note on *batch sizes*.\n",
    "\n",
    "#### Batch sizes and computation devices\n",
    "While we could train neural networks on one image at a time, this would be prohibitively slow, as they usually require learning from hundreds or thousands of images, many times. Instead, we can train on *batches* of multiple images at the same time, limited by the memory capacity of our computation processing device; for example, GPUs (graphical processing units), which are specially designed for image manipulation.\n",
    "\n",
    "Below, we will create `Dataloaders` for each of our three data subsets. We will use a batch size of 100 for the training set, but this is very much dependent on the CPU or GPU hardware that you use for computations. To create the most accessible example, we will stick to the CPU. The device that we will load data on to can be specified with:"
   ]
  },
  {
   "cell_type": "code",
   "execution_count": 22,
   "metadata": {},
   "outputs": [
    {
     "name": "stdout",
     "output_type": "stream",
     "text": [
      "running on cpu\n"
     ]
    }
   ],
   "source": [
    "# GPUs\n",
    "device = torch.device(\"cuda\" if torch.cuda.is_available() else \"cpu\")\n",
    "print('running on {}'.format(device))"
   ]
  },
  {
   "cell_type": "markdown",
   "metadata": {},
   "source": [
    "Now, let's create our dataloaders:\n"
   ]
  },
  {
   "cell_type": "code",
   "execution_count": 31,
   "metadata": {},
   "outputs": [],
   "source": [
    "train_batchsize = 100\n",
    "eval_batchsize = 10\n",
    "train_loader = DataLoader(train_dataset, \n",
    "                                     batch_size=train_batchsize, \n",
    "                                     shuffle=True\n",
    "                                     # images are loaded in random order\n",
    "                                                )\n",
    "                                                \n",
    "validation_loader = DataLoader(validation_dataset, \n",
    "                        batch_size=eval_batchsize)\n",
    "\n",
    "test_loader = DataLoader(test_dataset, \n",
    "                        batch_size=eval_batchsize)"
   ]
  },
  {
   "cell_type": "markdown",
   "metadata": {},
   "source": [
    "Next, to ensure that our results will be reproducible, we will fix all random seeds with:"
   ]
  },
  {
   "cell_type": "code",
   "execution_count": 23,
   "metadata": {},
   "outputs": [],
   "source": [
    "# set random seeds for reproducibility\n",
    "import random\n",
    "seed = 42\n",
    "random.seed(seed)\n",
    "torch.manual_seed(seed)\n",
    "torch.cuda.manual_seed_all(seed)"
   ]
  },
  {
   "cell_type": "markdown",
   "metadata": {},
   "source": [
    "With this, we are ready to introduce and build our classification neural network!"
   ]
  },
  {
   "cell_type": "markdown",
   "metadata": {},
   "source": [
    "## (2) Loading a neural network\n",
    "Neural networks are really just functions with many, many parameters (a.k.a. dials to tune). These parameters are *learned* from lots of data to tune the network to best approximate the function that we're trying to emulate. For example, an image classification neural network, like the one we will work with, is trained to take images as input, and output the correct class identity of the image, e.g., whether a breast image is cancerous. The many successive computational *layers* of neural networks allow them to learn very complicated functions that would be practically impossible to hand-design.\n",
    "\n",
    "*Convolutional* neural networks were particularly designed to learn to detect the spatial patterns found in images, so are especially well-suited for our task. Today, we will work with a very popular modern neural network architecture called a residual network, or *ResNet* for short. In fact, the original [ResNet paper](https://arxiv.org/abs/1512.03385) is one of the most cited papers of all time, with over 120,000 citations as of June 2022, according to Google Scholar. We will be using a particular version of the ResNet *model* known as ResNet-18, the details of which are beyond the scope of this tutorial. ResNet-18 and models like it can be easily loaded (untrained) with PyTorch's `torchvision.models` library, as:"
   ]
  },
  {
   "cell_type": "code",
   "execution_count": 26,
   "metadata": {},
   "outputs": [],
   "source": [
    "from torchvision.models import resnet18\n",
    "from torch import nn"
   ]
  },
  {
   "cell_type": "markdown",
   "metadata": {},
   "source": [
    "Here we also imported PyTorch's neural network library `torch.nn`. Next, we will load a ResNet-18 to work with (as `resnet18` is a class), and attach it to our set computation `device`, with:"
   ]
  },
  {
   "cell_type": "code",
   "execution_count": 25,
   "metadata": {},
   "outputs": [],
   "source": [
    "net = resnet18()\n",
    "net = net.to(device)"
   ]
  },
  {
   "cell_type": "markdown",
   "metadata": {},
   "source": [
    "ResNets are designed to work with color, three-channel images. However, our MRI slices are one-channel, so we will need to modify our `net` to take one-channel inputs. This can be accomplished by modifying the *input layer* of `net` as:"
   ]
  },
  {
   "cell_type": "code",
   "execution_count": 27,
   "metadata": {},
   "outputs": [],
   "source": [
    "net.conv1 = nn.Conv2d(1, 64, kernel_size=(7, 7), stride=(2, 2), padding=(3, 3), bias=False)"
   ]
  },
  {
   "cell_type": "markdown",
   "metadata": {},
   "source": [
    "With that, our network is ready to be trained to classify our images. Let's set up a training pipeline!"
   ]
  },
  {
   "cell_type": "markdown",
   "metadata": {},
   "source": [
    "## (3) Setting up for training\n",
    "Neural networks \"learn\" by minimizing the average error of making predictions on the entire training set. Each iteration, or *epoch*, over the training set, the parameters are adjusted in order to perform better at the next iteration. The change for each parameter is determined by the *backpropagation* algorithm, which adjusts each parameter to make the steepest decrease in error at the given iteration, over average (this process is known as *stochastic gradient descent* or \"SGD\").\n",
    "\n",
    "There are a couple of things that we will need to define in order to make this happen. First, we must define this prediction error, also known as *loss*. For the task of classification, the loss that we need is `nn.CrossEntropyLoss()`, which increases as the network predicts more incorrect classification of images in the training set. This is what we want to minimize in training; we can define it as:"
   ]
  },
  {
   "cell_type": "code",
   "execution_count": 28,
   "metadata": {},
   "outputs": [],
   "source": [
    "loss = nn.CrossEntropyLoss()"
   ]
  },
  {
   "cell_type": "markdown",
   "metadata": {},
   "source": [
    "Next, we want to define the *error minimization* algorithm that we will use; again, this *is stochastic gradient descent*, or SGD; there are others of course, but SGD is the most basic and will serve fine. When creating an instance of SGD, we will need to tell it which parameters we will minimize (the parameters of `net`, and the *learning rate*. The learning rate (`lr`) is a fixed constant, that basically determines the approximate size of adjustments made to parameters during learning. A good choice of learning rate can vary depending on the task, data, network and other factors, but for now, we will choose `lr=0.001`."
   ]
  },
  {
   "cell_type": "code",
   "execution_count": 29,
   "metadata": {},
   "outputs": [],
   "source": [
    "error_minimizer = torch.optim.SGD(net.parameters(), lr=0.001)"
   ]
  },
  {
   "cell_type": "markdown",
   "metadata": {},
   "source": [
    "Finall, let's set the number of training epochs (passes over the entire training set) to 100:\n"
   ]
  },
  {
   "cell_type": "code",
   "execution_count": 30,
   "metadata": {},
   "outputs": [],
   "source": [
    "epochs = 100"
   ]
  },
  {
   "cell_type": "markdown",
   "metadata": {},
   "source": [
    "\n",
    "## (4) Train and validate your model!\n"
   ]
  },
  {
   "cell_type": "markdown",
   "metadata": {},
   "source": [
    "*Note*: rather than saving model at best validation, just copy model and store as a separate var."
   ]
  },
  {
   "cell_type": "markdown",
   "metadata": {},
   "source": [
    "\n",
    "## (5) Testing your best model"
   ]
  },
  {
   "cell_type": "markdown",
   "metadata": {},
   "source": [
    "```\n",
    "\n",
    "```"
   ]
  }
 ],
 "metadata": {
  "interpreter": {
   "hash": "aee8b7b246df8f9039afb4144a1f6fd8d2ca17a180786b69acc140d282b71a49"
  },
  "kernelspec": {
   "display_name": "Python 3.9.1 64-bit",
   "language": "python",
   "name": "python3"
  },
  "language_info": {
   "codemirror_mode": {
    "name": "ipython",
    "version": 3
   },
   "file_extension": ".py",
   "mimetype": "text/x-python",
   "name": "python",
   "nbconvert_exporter": "python",
   "pygments_lexer": "ipython3",
   "version": "3.9.1"
  },
  "orig_nbformat": 4
 },
 "nbformat": 4,
 "nbformat_minor": 2
}
